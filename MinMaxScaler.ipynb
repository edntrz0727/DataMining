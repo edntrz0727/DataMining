{
 "cells": [
  {
   "cell_type": "code",
   "execution_count": 13,
   "id": "33f7b93e-a68d-4572-be46-fd70f9453bb1",
   "metadata": {},
   "outputs": [
    {
     "name": "stdout",
     "output_type": "stream",
     "text": [
      "MinMaxScaler(feature_range=(4, 9))\n"
     ]
    }
   ],
   "source": [
    "from sklearn.preprocessing import MinMaxScaler\n",
    "data = [[-7, 20], [-0.5, 1.6], [9.7, 10], [13, 18]]\n",
    "scaler = MinMaxScaler(feature_range = (4,9))\n",
    "print(scaler.fit(data))"
   ]
  },
  {
   "cell_type": "code",
   "execution_count": 15,
   "id": "2ae05d4a-bb01-4578-b361-9c689f20418f",
   "metadata": {},
   "outputs": [
    {
     "name": "stdout",
     "output_type": "stream",
     "text": [
      "[13. 20.]\n"
     ]
    }
   ],
   "source": [
    "print(scaler.data_max_) #原始資料集中最大的資料，依照每個特徵進行綜合判斷"
   ]
  },
  {
   "cell_type": "code",
   "execution_count": 17,
   "id": "9596ab9b-5cef-44ed-bb8f-3d103419ed1d",
   "metadata": {},
   "outputs": [
    {
     "name": "stdout",
     "output_type": "stream",
     "text": [
      "[[4.         9.        ]\n",
      " [5.625      4.        ]\n",
      " [8.175      6.2826087 ]\n",
      " [9.         8.45652174]]\n"
     ]
    }
   ],
   "source": [
    "print(scaler.transform(data)) #轉換後的資料內容"
   ]
  },
  {
   "cell_type": "code",
   "execution_count": 19,
   "id": "9c02efee-4933-48d1-b61a-2ea6e52e5cb1",
   "metadata": {},
   "outputs": [
    {
     "name": "stdout",
     "output_type": "stream",
     "text": [
      "[[6.25       4.10869565]]\n"
     ]
    }
   ],
   "source": [
    "print(scaler.transform([[2, 2]]))"
   ]
  }
 ],
 "metadata": {
  "kernelspec": {
   "display_name": "Python 3 (ipykernel)",
   "language": "python",
   "name": "python3"
  },
  "language_info": {
   "codemirror_mode": {
    "name": "ipython",
    "version": 3
   },
   "file_extension": ".py",
   "mimetype": "text/x-python",
   "name": "python",
   "nbconvert_exporter": "python",
   "pygments_lexer": "ipython3",
   "version": "3.12.4"
  }
 },
 "nbformat": 4,
 "nbformat_minor": 5
}
