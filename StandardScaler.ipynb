{
 "cells": [
  {
   "cell_type": "code",
   "execution_count": 17,
   "id": "a6907521-c4fb-4a42-acf8-cb4c5140c494",
   "metadata": {},
   "outputs": [
    {
     "name": "stdout",
     "output_type": "stream",
     "text": [
      "[[-0.85895569 -0.35355339]\n",
      " [-1.2493901  -1.06066017]\n",
      " [-0.07808688  0.35355339]\n",
      " [ 0.70278193 -0.70710678]\n",
      " [ 1.48365074  1.76776695]]\n"
     ]
    }
   ],
   "source": [
    "from sklearn.preprocessing import StandardScaler\n",
    "\n",
    "data = [[2,3],[1,1],[4,5],[6,2],[8,9]]\n",
    "scaler = StandardScaler()\n",
    "scaler.fit(data)\n",
    "\n",
    "print(scaler.transform(data))"
   ]
  },
  {
   "cell_type": "code",
   "execution_count": 25,
   "id": "4da1fb03-d21c-4f69-9c9b-bdd7b482bdaf",
   "metadata": {},
   "outputs": [
    {
     "name": "stdout",
     "output_type": "stream",
     "text": [
      "[[0.70278193 1.76776695]]\n"
     ]
    }
   ],
   "source": [
    "print(scaler.transform([[6,9]]))"
   ]
  },
  {
   "cell_type": "code",
   "execution_count": null,
   "id": "861994b5-c347-488d-a065-1d79b2caf29b",
   "metadata": {},
   "outputs": [],
   "source": []
  }
 ],
 "metadata": {
  "kernelspec": {
   "display_name": "Python 3 (ipykernel)",
   "language": "python",
   "name": "python3"
  },
  "language_info": {
   "codemirror_mode": {
    "name": "ipython",
    "version": 3
   },
   "file_extension": ".py",
   "mimetype": "text/x-python",
   "name": "python",
   "nbconvert_exporter": "python",
   "pygments_lexer": "ipython3",
   "version": "3.12.4"
  }
 },
 "nbformat": 4,
 "nbformat_minor": 5
}
