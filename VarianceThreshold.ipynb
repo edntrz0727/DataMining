{
 "cells": [
  {
   "cell_type": "code",
   "execution_count": 7,
   "id": "a8e8d872-a853-4181-8451-9381d144d372",
   "metadata": {},
   "outputs": [
    {
     "name": "stdout",
     "output_type": "stream",
     "text": [
      "Before: [[7, 4, 6, 5], [2, 4, 5, 8], [6, 4, 10, 3]]\n",
      "After: [[ 7  6  5]\n",
      " [ 2  5  8]\n",
      " [ 6 10  3]]\n",
      "Variance: [4.66666667 0.         4.66666667 4.22222222]\n"
     ]
    }
   ],
   "source": [
    "from sklearn.feature_selection import VarianceThreshold\n",
    "X = [[7, 4, 6, 5], [2, 4, 5, 8], [6, 4, 10, 3]]\n",
    "print('Before:',X)\n",
    "selector = VarianceThreshold()\n",
    "print('After:',selector.fit_transform(X))\n",
    "print('Variance:',selector.variances_) #刪除方差為0的欄位"
   ]
  }
 ],
 "metadata": {
  "kernelspec": {
   "display_name": "Python 3 (ipykernel)",
   "language": "python",
   "name": "python3"
  },
  "language_info": {
   "codemirror_mode": {
    "name": "ipython",
    "version": 3
   },
   "file_extension": ".py",
   "mimetype": "text/x-python",
   "name": "python",
   "nbconvert_exporter": "python",
   "pygments_lexer": "ipython3",
   "version": "3.12.4"
  }
 },
 "nbformat": 4,
 "nbformat_minor": 5
}
