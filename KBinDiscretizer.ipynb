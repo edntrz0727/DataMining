{
 "cells": [
  {
   "cell_type": "code",
   "execution_count": 5,
   "id": "59aa596f-dc48-44d0-87e3-875351483975",
   "metadata": {},
   "outputs": [
    {
     "data": {
      "text/plain": [
       "array([[1., 3., 1., 0.],\n",
       "       [2., 0., 3., 1.],\n",
       "       [3., 1., 2., 3.],\n",
       "       [0., 2., 0., 2.]])"
      ]
     },
     "execution_count": 5,
     "metadata": {},
     "output_type": "execute_result"
    }
   ],
   "source": [
    "from sklearn.preprocessing import KBinsDiscretizer\n",
    "X = [[7, 17, -9,   -5],\n",
    "     [25, 2, 34, -1.6],\n",
    "     [ 40, 3, 4,  7.9],\n",
    "     [ 5, 7, -15,  2.4]]\n",
    "est = KBinsDiscretizer(n_bins=4, encode='ordinal', strategy='quantile')\n",
    "est.fit(X)\n",
    "Xt = est.transform(X)\n",
    "Xt  "
   ]
  },
  {
   "cell_type": "code",
   "execution_count": null,
   "id": "9b2143de-446b-4a78-a72f-93d081087074",
   "metadata": {},
   "outputs": [],
   "source": []
  }
 ],
 "metadata": {
  "kernelspec": {
   "display_name": "Python 3 (ipykernel)",
   "language": "python",
   "name": "python3"
  },
  "language_info": {
   "codemirror_mode": {
    "name": "ipython",
    "version": 3
   },
   "file_extension": ".py",
   "mimetype": "text/x-python",
   "name": "python",
   "nbconvert_exporter": "python",
   "pygments_lexer": "ipython3",
   "version": "3.12.4"
  }
 },
 "nbformat": 4,
 "nbformat_minor": 5
}
