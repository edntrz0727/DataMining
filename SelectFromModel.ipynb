{
 "cells": [
  {
   "cell_type": "code",
   "execution_count": 25,
   "id": "8ab37b03-5b00-478c-900c-8ee61bcae538",
   "metadata": {},
   "outputs": [
    {
     "data": {
      "text/plain": [
       "array([[-0.85847769,  0.00245138,  0.36287215,  0.3487135 ]])"
      ]
     },
     "execution_count": 25,
     "metadata": {},
     "output_type": "execute_result"
    }
   ],
   "source": [
    "from sklearn.feature_selection import SelectFromModel\n",
    "from sklearn.linear_model import LogisticRegression\n",
    "X = [[ 1.55, 0.87, -1.2,  0.95 ],\n",
    "     [0.72, -4.62, 1.97, 0.85 ],\n",
    "     [3.98, -6.98, 5.32, -2.45 ],\n",
    "     [-1.29, 7.05,  1.29,  0.33 ]]\n",
    "y = [0, 1, 0, 1]\n",
    "selector = SelectFromModel(estimator=LogisticRegression()).fit(X, y)\n",
    "selector.estimator_.coef_"
   ]
  },
  {
   "cell_type": "code",
   "execution_count": 27,
   "id": "1baf1d97-2427-4a64-9a65-1fc9574f980d",
   "metadata": {},
   "outputs": [
    {
     "data": {
      "text/plain": [
       "0.39312867980979366"
      ]
     },
     "execution_count": 27,
     "metadata": {},
     "output_type": "execute_result"
    }
   ],
   "source": [
    "selector.threshold_ #閾值"
   ]
  },
  {
   "cell_type": "code",
   "execution_count": 35,
   "id": "969e9f3d-8400-449b-8177-dd8a5c95a9e1",
   "metadata": {},
   "outputs": [
    {
     "data": {
      "text/plain": [
       "array([ True, False, False, False])"
      ]
     },
     "execution_count": 35,
     "metadata": {},
     "output_type": "execute_result"
    }
   ],
   "source": [
    "selector.get_support() #是否高於閾值，取絕對值"
   ]
  },
  {
   "cell_type": "code",
   "execution_count": 37,
   "id": "bede05af-c6f2-4450-8de5-e0f2f2f2ba66",
   "metadata": {},
   "outputs": [
    {
     "data": {
      "text/plain": [
       "array([[ 1.55],\n",
       "       [ 0.72],\n",
       "       [ 3.98],\n",
       "       [-1.29]])"
      ]
     },
     "execution_count": 37,
     "metadata": {},
     "output_type": "execute_result"
    }
   ],
   "source": [
    "selector.transform(X) #篩選掉低於閾值的Col，最後只剩一個特徵"
   ]
  }
 ],
 "metadata": {
  "kernelspec": {
   "display_name": "Python 3 (ipykernel)",
   "language": "python",
   "name": "python3"
  },
  "language_info": {
   "codemirror_mode": {
    "name": "ipython",
    "version": 3
   },
   "file_extension": ".py",
   "mimetype": "text/x-python",
   "name": "python",
   "nbconvert_exporter": "python",
   "pygments_lexer": "ipython3",
   "version": "3.12.4"
  }
 },
 "nbformat": 4,
 "nbformat_minor": 5
}
